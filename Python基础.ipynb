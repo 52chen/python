{
  "nbformat": 4,
  "nbformat_minor": 0,
  "metadata": {
    "colab": {
      "name": "Python基础.ipynb",
      "provenance": [],
      "authorship_tag": "ABX9TyPWW+jfO0O2kuJDBJn7HOfD",
      "include_colab_link": true
    },
    "kernelspec": {
      "name": "python3",
      "display_name": "Python 3"
    }
  },
  "cells": [
    {
      "cell_type": "markdown",
      "metadata": {
        "id": "view-in-github",
        "colab_type": "text"
      },
      "source": [
        "<a href=\"https://colab.research.google.com/github/52chen/python/blob/master/Python%E5%9F%BA%E7%A1%80.ipynb\" target=\"_parent\"><img src=\"https://colab.research.google.com/assets/colab-badge.svg\" alt=\"Open In Colab\"/></a>"
      ]
    },
    {
      "cell_type": "markdown",
      "metadata": {
        "id": "9RTa9YcfSOp3",
        "colab_type": "text"
      },
      "source": [
        "# 缩进\n",
        "冒号和缩进来表示隶属关系\n",
        "\n",
        "\n",
        "\n"
      ]
    },
    {
      "cell_type": "code",
      "metadata": {
        "id": "Dr5APJXzScm0",
        "colab_type": "code",
        "colab": {
          "base_uri": "https://localhost:8080/",
          "height": 118
        },
        "outputId": "daaf3deb-9d75-4d14-b20e-9bfac907d6c4"
      },
      "source": [
        "i = 1\n",
        "x = 1\n",
        "if i > 0:\n",
        "    x = x+1\n",
        "print(x)\n",
        "print(8/5) #除法永远是返回一个浮点型\n",
        "\n",
        "e = 2\n",
        "if e >1 :\n",
        "  print('e is bigger than 1')\n",
        "  print('Good ')\n",
        "  if e<3:\n",
        "    print('e is samller than 2')\n",
        "print('Alright ')"
      ],
      "execution_count": 5,
      "outputs": [
        {
          "output_type": "stream",
          "text": [
            "2\n",
            "1.6\n",
            "e is bigger than 1\n",
            "Good \n",
            "e is samller than 2\n",
            "Alright \n"
          ],
          "name": "stdout"
        }
      ]
    },
    {
      "cell_type": "markdown",
      "metadata": {
        "id": "0hygB7JvbVPs",
        "colab_type": "text"
      },
      "source": [
        "# For循环\n",
        "range()\n",
        "\n",
        "for 元素 in 序列:\n",
        "\n",
        "while 条件:\n",
        "\n",
        "continue\n",
        "\n",
        "break"
      ]
    },
    {
      "cell_type": "code",
      "metadata": {
        "id": "GEqCxtHdbZ9f",
        "colab_type": "code",
        "colab": {
          "base_uri": "https://localhost:8080/",
          "height": 218
        },
        "outputId": "0c212108-3d54-449d-985a-0ea7da18458c"
      },
      "source": [
        "for a in [3,4.4,'life']:\n",
        "    print(a)\n",
        "#或者可以写成下面的句子\n",
        "# for a in range(10):\n",
        "#    print(a**2) ##这里是平方\n",
        "\n",
        "for i in range(10):\n",
        "    if i == 2: \n",
        "        continue\n",
        "    print(i)"
      ],
      "execution_count": 9,
      "outputs": [
        {
          "output_type": "stream",
          "text": [
            "3\n",
            "4.4\n",
            "life\n",
            "0\n",
            "1\n",
            "3\n",
            "4\n",
            "5\n",
            "6\n",
            "7\n",
            "8\n",
            "9\n"
          ],
          "name": "stdout"
        }
      ]
    },
    {
      "cell_type": "markdown",
      "metadata": {
        "id": "ljyk2JCXdmKt",
        "colab_type": "text"
      },
      "source": [
        "# 函数\n"
      ]
    },
    {
      "cell_type": "code",
      "metadata": {
        "id": "llewRwKIdrDn",
        "colab_type": "code",
        "colab": {
          "base_uri": "https://localhost:8080/",
          "height": 34
        },
        "outputId": "d9582471-bc6f-4555-85e3-87be30ab2ebf"
      },
      "source": [
        "def hello(a,b):\n",
        "  c = a**2 + b**2\n",
        "  return c,a  #这个是返回一个元组tuple 相当于 return (a,b,c)\n",
        "print(hello(1,1)) \n"
      ],
      "execution_count": 12,
      "outputs": [
        {
          "output_type": "stream",
          "text": [
            "(2, 1)\n"
          ],
          "name": "stdout"
        }
      ]
    }
  ]
}